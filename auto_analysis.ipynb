{
 "cells": [
  {
   "cell_type": "code",
   "execution_count": null,
   "source": [
    "import pandas\n",
    "import datetime\n"
   ],
   "outputs": [],
   "metadata": {}
  },
  {
   "cell_type": "code",
   "execution_count": null,
   "source": [
    "df = pandas.read_csv(\"HL253551_2021_08_31_11_15_02.csv\",encoding='shift_jis')"
   ],
   "outputs": [],
   "metadata": {}
  },
  {
   "cell_type": "code",
   "execution_count": null,
   "source": [
    "df.head()"
   ],
   "outputs": [],
   "metadata": {}
  },
  {
   "cell_type": "code",
   "execution_count": null,
   "source": [
    "# 購入金額とペイアウトの型をintにする"
   ],
   "outputs": [],
   "metadata": {}
  },
  {
   "cell_type": "code",
   "execution_count": null,
   "source": [
    "buy_l = []\n",
    "payout_l = []\n",
    "for i, j in zip(df['購入'], df[df.columns[7]]):\n",
    "    i = i.replace(\"￥\", \"\")\n",
    "    i = int(i.replace(\",\", \"\"))\n",
    "    j = j.replace(\"￥\", \"\")\n",
    "    j = j.replace(\"---\", \"0\")\n",
    "    j = int(j.replace(\",\", \"\"))\n",
    "    buy_l.append(i)\n",
    "    payout_l.append(j)"
   ],
   "outputs": [],
   "metadata": {}
  },
  {
   "cell_type": "code",
   "execution_count": null,
   "source": [
    "df['購入'] = buy_l\n",
    "df[df.columns[7]] = payout_l\n",
    "df"
   ],
   "outputs": [],
   "metadata": {}
  },
  {
   "cell_type": "code",
   "execution_count": null,
   "source": [
    "df['購入'].sum()"
   ],
   "outputs": [],
   "metadata": {}
  },
  {
   "cell_type": "code",
   "execution_count": null,
   "source": [
    "df['ペイアウト '].sum()"
   ],
   "outputs": [],
   "metadata": {}
  },
  {
   "cell_type": "code",
   "execution_count": null,
   "source": [
    "net_income = df['購入'].sum() - df['ペイアウト '].sum()\n",
    "net_income"
   ],
   "outputs": [],
   "metadata": {}
  },
  {
   "cell_type": "markdown",
   "source": [
    "# ここからアイディアベースで出力を考える\n",
    "\n",
    "jupyterで分析することが最終目標なので <br>\n",
    "データフレームの作成やseabornでの可視化でOK <br>\n",
    "\n",
    "Becauseデータの自動取得ができないから"
   ],
   "metadata": {}
  },
  {
   "cell_type": "code",
   "execution_count": null,
   "source": [
    "df"
   ],
   "outputs": [],
   "metadata": {}
  },
  {
   "cell_type": "code",
   "execution_count": null,
   "source": [
    "df.columns[-2]"
   ],
   "outputs": [],
   "metadata": {}
  },
  {
   "cell_type": "code",
   "execution_count": null,
   "source": [
    "type(df[' 取引時間 '][0])"
   ],
   "outputs": [],
   "metadata": {}
  },
  {
   "cell_type": "code",
   "execution_count": null,
   "source": [
    "df[\" 取引時間 \"] = pandas.to_datetime(df[\" 取引時間 \"])"
   ],
   "outputs": [],
   "metadata": {}
  },
  {
   "cell_type": "code",
   "execution_count": null,
   "source": [
    "df"
   ],
   "outputs": [],
   "metadata": {}
  },
  {
   "cell_type": "code",
   "execution_count": null,
   "source": [
    "df.groupby(pandas.Grouper(key=' 取引時間 ', freq='01W')).sum()"
   ],
   "outputs": [],
   "metadata": {}
  },
  {
   "cell_type": "code",
   "execution_count": null,
   "source": [
    "type(df.columns[-2][0])"
   ],
   "outputs": [],
   "metadata": {}
  },
  {
   "cell_type": "code",
   "execution_count": null,
   "source": [
    "from datetime import datetime\n",
    "date_list = []\n",
    "date_list2 = []\n",
    "for time in df[df.columns[-2]]:\n",
    "    # print(time)\n",
    "    t = datetime.strptime(time, '%Y/%m/%d %H:%M:%S')\n",
    "    # data_t = t.strftime('%Y/%m/%d')\n",
    "    date_t2 = t.date()\n",
    "    # print(type(data_t), data_t)\n",
    "    # print(type(date_t2), date_t2)\n",
    "    # date_list.append(date_t)\n",
    "    date_list2.append(date_t2)\n",
    "\n"
   ],
   "outputs": [],
   "metadata": {}
  },
  {
   "cell_type": "code",
   "execution_count": null,
   "source": [
    "df[df.columns[-2]] = date_list2"
   ],
   "outputs": [],
   "metadata": {}
  },
  {
   "cell_type": "code",
   "execution_count": null,
   "source": [
    "df"
   ],
   "outputs": [],
   "metadata": {}
  },
  {
   "cell_type": "code",
   "execution_count": null,
   "source": [],
   "outputs": [],
   "metadata": {}
  }
 ],
 "metadata": {
  "kernelspec": {
   "name": "python3",
   "display_name": "Python 3.8.3 64-bit ('base': conda)"
  },
  "language_info": {
   "codemirror_mode": {
    "name": "ipython",
    "version": 3
   },
   "file_extension": ".py",
   "mimetype": "text/x-python",
   "name": "python",
   "nbconvert_exporter": "python",
   "pygments_lexer": "ipython3",
   "version": "3.8.3"
  },
  "interpreter": {
   "hash": "dca0ade3e726a953b501b15e8e990130d2b7799f14cfd9f4271676035ebe5511"
  }
 },
 "nbformat": 4,
 "nbformat_minor": 4
}